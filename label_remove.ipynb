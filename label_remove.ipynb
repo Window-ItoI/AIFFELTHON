{
 "cells": [
  {
   "cell_type": "code",
   "execution_count": 1,
   "metadata": {},
   "outputs": [],
   "source": [
    "import pandas as pd\n",
    "from glob import glob"
   ]
  },
  {
   "cell_type": "code",
   "execution_count": 2,
   "metadata": {},
   "outputs": [
    {
     "data": {
      "text/plain": [
       "['data/csv/울산광역시.csv',\n",
       " 'data/csv/부산광역시_003.csv',\n",
       " 'data/csv/광주광역시.csv',\n",
       " 'data/csv/부산광역시_001.csv',\n",
       " 'data/csv/인천광역시.csv',\n",
       " 'data/csv/서울특별시.csv',\n",
       " 'data/csv/부산광역시_004.csv',\n",
       " 'data/csv/부산광역시_002.csv']"
      ]
     },
     "execution_count": 2,
     "metadata": {},
     "output_type": "execute_result"
    }
   ],
   "source": [
    "path_list = glob('data/csv/*.csv')\n",
    "path_list"
   ]
  },
  {
   "cell_type": "code",
   "execution_count": 3,
   "metadata": {},
   "outputs": [],
   "source": [
    "\n",
    "for i, path in enumerate(path_list):\n",
    "    if i == 0:\n",
    "        df = pd.read_csv(path)\n",
    "        \n",
    "        df = df[['labels', 'data_path']]\n",
    "        \n",
    "        df_2 = df[df['labels']==2]\n",
    "        df_yes_2 = df_2.sample(frac=0.25)\n",
    "        df_yes_2 = df_yes_2.sample(frac=0.5)\n",
    "        \n",
    "#         df_4 = df[df['labels']==4]\n",
    "        \n",
    "        df_not_2_not_4 = df[df['labels']!=2]\n",
    "#         df_not_2_not_4 = df_not_2_not_4[df_not_2_not_4['labels']!=4]\n",
    "\n",
    "        df = pd.concat([df_not_2_not_4, df_yes_2])\n",
    "#         df = pd.concat([df_not_2_not_4, df_yes_2, df_yes_4])\n",
    "    else:\n",
    "        df_else = pd.read_csv(path)\n",
    "        \n",
    "        df_else = df_else[['labels', 'data_path']]\n",
    "        \n",
    "        df_2 = df_else[df_else['labels']==2]\n",
    "        df_yes_2 = df_2.sample(frac=0.25)\n",
    "        df_yes_2 = df_yes_2.sample(frac=0.5)\n",
    "        \n",
    "#         df_4 = df[df['labels']==4]\n",
    "        \n",
    "        df_not_2_not_4 = df[df['labels']!=2]\n",
    "#         df_not_2_not_4 = df_not_2_not_4[df_not_2_not_4['labels']!=4]\n",
    "        \n",
    "        df_else = pd.concat([df_not_2_not_4, df_yes_2])\n",
    "#         df_else = pd.concat([df_not_2_not_4, df_yes_2, df_yes_4])\n",
    "        \n",
    "        df = pd.concat([df, df_else])"
   ]
  },
  {
   "cell_type": "code",
   "execution_count": 4,
   "metadata": {},
   "outputs": [],
   "source": [
    "df_groupby = df.groupby(['labels'])['data_path'].nunique()"
   ]
  },
  {
   "cell_type": "code",
   "execution_count": 5,
   "metadata": {
    "scrolled": false
   },
   "outputs": [
    {
     "data": {
      "text/plain": [
       "labels\n",
       "0     8023\n",
       "1     1419\n",
       "2    50833\n",
       "3      841\n",
       "4    21748\n",
       "5     4234\n",
       "6     1567\n",
       "7     5036\n",
       "Name: data_path, dtype: int64"
      ]
     },
     "execution_count": 5,
     "metadata": {},
     "output_type": "execute_result"
    }
   ],
   "source": [
    "df_groupby"
   ]
  },
  {
   "cell_type": "code",
   "execution_count": 6,
   "metadata": {},
   "outputs": [
    {
     "data": {
      "text/plain": [
       "<AxesSubplot:xlabel='labels'>"
      ]
     },
     "execution_count": 6,
     "metadata": {},
     "output_type": "execute_result"
    },
    {
     "data": {
      "image/png": "[encoded data removed]",
      "text/plain": [
       "<Figure size 432x288 with 1 Axes>"
      ]
     },
     "metadata": {
      "needs_background": "light"
     },
     "output_type": "display_data"
    }
   ],
   "source": [
    "df_groupby.plot.bar(x='labels')"
   ]
  },
  {
   "cell_type": "code",
   "execution_count": 7,
   "metadata": {},
   "outputs": [
    {
     "data": {
      "text/plain": [
       "93701"
      ]
     },
     "execution_count": 7,
     "metadata": {},
     "output_type": "execute_result"
    }
   ],
   "source": [
    "df_groupby.sum()"
   ]
  }
 ],
 "metadata": {
  "kernelspec": {
   "display_name": "Python 3 (ipykernel)",
   "language": "python",
   "name": "python3"
  },
  "language_info": {
   "codemirror_mode": {
    "name": "ipython",
    "version": 3
   },
   "file_extension": ".py",
   "mimetype": "text/x-python",
   "name": "python",
   "nbconvert_exporter": "python",
   "pygments_lexer": "ipython3",
   "version": "3.9.7"
  },
  "vscode": {
   "interpreter": {
    "hash": "ad2bdc8ecc057115af97d19610ffacc2b4e99fae6737bb82f5d7fb13d2f2c186"
   }
  }
 },
 "nbformat": 4,
 "nbformat_minor": 2
}
