{
 "cells": [
  {
   "cell_type": "markdown",
   "metadata": {},
   "source": [
    "# 라이브러리 임포트"
   ]
  },
  {
   "cell_type": "code",
   "execution_count": 152,
   "metadata": {},
   "outputs": [
    {
     "name": "stdout",
     "output_type": "stream",
     "text": [
      "2.10.0\n"
     ]
    }
   ],
   "source": [
    "import pandas\n",
    "import os\n",
    "import numpy as np\n",
    "import pathlib\n",
    "import IPython.display as display\n",
    "import matplotlib.pyplot as plt\n",
    "import cv2\n",
    "import pathlib\n",
    "\n",
    "from PIL import Image\n",
    "#from glob import glob\n",
    "\n",
    "import tensorflow as tf\n",
    "print(tf.__version__)"
   ]
  },
  {
   "cell_type": "markdown",
   "metadata": {},
   "source": [
    "# 이미지 경로 설정 및 클래스 정의\n"
   ]
  },
  {
   "cell_type": "code",
   "execution_count": 153,
   "metadata": {},
   "outputs": [],
   "source": [
    "data_directory = pathlib.Path(\"/Volumes/Samsung_T5/dataset\")\n",
    "\n",
    "data_path = \"/Volumes/Samsung_T5/dataset\"\n",
    "if '.DS_Store' in data_path:\n",
    "    data_path.remove('.DS_Store')\n",
    "\n",
    "CLASSES = np.array([item.name for item in data_directory.glob('.jpg') or data_directory.glob('.JPG')])"
   ]
  },
  {
   "cell_type": "markdown",
   "metadata": {},
   "source": [
    "# 케라스 데이터셋 구현"
   ]
  },
  {
   "cell_type": "code",
   "execution_count": 154,
   "metadata": {},
   "outputs": [],
   "source": [
    "import os\n",
    "\n",
    "for i in os.listdir(data_path + '/0') :\n",
    "    if not i.endswith('.jpg') or i.endswith('.JPG'): \n",
    "        print(i)"
   ]
  },
  {
   "cell_type": "code",
   "execution_count": 155,
   "metadata": {},
   "outputs": [
    {
     "name": "stdout",
     "output_type": "stream",
     "text": [
      "Found 2880 files belonging to 10 classes.\n"
     ]
    }
   ],
   "source": [
    "# from utils import tf.utils.image_dataset_from_directory\n",
    "\n",
    "from keras import utils\n",
    "\n",
    "dataset = utils.image_dataset_from_directory(data_directory,\n",
    "                                            labels='inferred',\n",
    "                                            label_mode = 'categorical',\n",
    "                                            batch_size = 128,\n",
    "                                            shuffle = 'True',\n",
    "                                            interpolation = 'gaussian',\n",
    "                                            seed = 2022)"
   ]
  },
  {
   "cell_type": "code",
   "execution_count": 158,
   "metadata": {},
   "outputs": [
    {
     "name": "stdout",
     "output_type": "stream",
     "text": [
      "<PrefetchDataset element_spec=(TensorSpec(shape=(None, 256, 256, 3), dtype=tf.float32, name=None), TensorSpec(shape=(None, 10), dtype=tf.float32, name=None))>\n"
     ]
    }
   ],
   "source": [
    "loaded_dataset = dataset.prefetch(buffer_size=tf.data.experimental.AUTOTUNE)\n",
    "print(loaded_dataset)"
   ]
  },
  {
   "cell_type": "markdown",
   "metadata": {},
   "source": [
    "# 데이터셋 리스트로 저장"
   ]
  },
  {
   "cell_type": "code",
   "execution_count": 157,
   "metadata": {},
   "outputs": [
    {
     "name": "stdout",
     "output_type": "stream",
     "text": [
      "<ShuffleDataset element_spec=TensorSpec(shape=(), dtype=tf.string, name=None)>\n",
      "b'/Volumes/Samsung_T5/dataset/9/._\\xe1\\x84\\x80\\xe1\\x85\\xa7\\xe1\\x86\\xbc\\xe1\\x84\\x92\\xe1\\x85\\xb4\\xe1\\x84\\x8b\\xe1\\x85\\xb4\\xe1\\x84\\x85\\xe1\\x85\\xad\\xe1\\x84\\x8b\\xe1\\x85\\xaf\\xe1\\x86\\xab_114_32028860.JPG'\n",
      "b'/Volumes/Samsung_T5/dataset/6/._\\xe1\\x84\\x8c\\xe1\\x85\\xa1\\xe1\\x86\\xbc\\xe1\\x84\\x8e\\xe1\\x85\\xae\\xe1\\x86\\xbc\\xe1\\x84\\x83\\xe1\\x85\\xa1\\xe1\\x86\\xab\\xe1\\x84\\x87\\xe1\\x85\\xb5_112_33630343.JPG'\n",
      "b'/Volumes/Samsung_T5/dataset/4/._\\xe1\\x84\\x80\\xe1\\x85\\xa2\\xe1\\x86\\xaf\\xe1\\x84\\x85\\xe1\\x85\\xa5\\xe1\\x84\\x85\\xe1\\x85\\xb5\\xe1\\x84\\x86\\xe1\\x85\\xa1\\xe1\\x84\\x82\\xe1\\x85\\xa9_096_42034174.jpg'\n",
      "b'/Volumes/Samsung_T5/dataset/6/._\\xe1\\x84\\x8c\\xe1\\x85\\xa1\\xe1\\x86\\xbc\\xe1\\x84\\x8e\\xe1\\x85\\xae\\xe1\\x86\\xbc\\xe1\\x84\\x83\\xe1\\x85\\xa1\\xe1\\x86\\xab\\xe1\\x84\\x87\\xe1\\x85\\xb5_075_31898068.JPG'\n",
      "b'/Volumes/Samsung_T5/dataset/1/\\xe1\\x84\\x91\\xe1\\x85\\xa7\\xe1\\x86\\xbc\\xe1\\x84\\x92\\xe1\\x85\\xaa\\xe1\\x84\\x8b\\xe1\\x85\\xb4\\xe1\\x84\\x80\\xe1\\x85\\xa9\\xe1\\x86\\xbc\\xe1\\x84\\x8b\\xe1\\x85\\xaf\\xe1\\x86\\xab_\\xe1\\x84\\x86\\xe1\\x85\\xa9\\xe1\\x84\\x92\\xe1\\x85\\xa5\\xe1\\x86\\xb7\\xe1\\x84\\x82\\xe1\\x85\\xa9\\xe1\\x86\\xaf\\xe1\\x84\\x8b\\xe1\\x85\\xb5\\xe1\\x84\\x90\\xe1\\x85\\xa5_082_38686429.JPG'\n"
     ]
    }
   ],
   "source": [
    "list_dataset = tf.data.Dataset.list_files(str(data_directory/'*/*'))\n",
    "print(list_dataset)\n",
    "for f in list_dataset.take(5):\n",
    "  print(f.numpy())"
   ]
  }
 ],
 "metadata": {
  "kernelspec": {
   "display_name": "Python 3.8.9 64-bit",
   "language": "python",
   "name": "python3"
  },
  "language_info": {
   "codemirror_mode": {
    "name": "ipython",
    "version": 3
   },
   "file_extension": ".py",
   "mimetype": "text/x-python",
   "name": "python",
   "nbconvert_exporter": "python",
   "pygments_lexer": "ipython3",
   "version": "3.8.9"
  },
  "orig_nbformat": 4,
  "vscode": {
   "interpreter": {
    "hash": "31f2aee4e71d21fbe5cf8b01ff0e069b9275f58929596ceb00d14d90e3e16cd6"
   }
  }
 },
 "nbformat": 4,
 "nbformat_minor": 2
}
