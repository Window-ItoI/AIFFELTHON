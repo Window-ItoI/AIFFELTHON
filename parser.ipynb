{
 "cells": [
  {
   "cell_type": "markdown",
   "id": "2c1f35b8",
   "metadata": {},
   "source": [
    "# Import library"
   ]
  },
  {
   "cell_type": "code",
   "execution_count": 1,
   "id": "8688888e",
   "metadata": {},
   "outputs": [],
   "source": [
    "import sys\n",
    "import os\n",
    "from tqdm import tqdm\n",
    "from glob import glob\n",
    "import random\n",
    "import tensorflow as tf\n",
    "import pandas as pd"
   ]
  },
  {
   "cell_type": "markdown",
   "id": "e1326595",
   "metadata": {},
   "source": [
    "# Parser function"
   ]
  },
  {
   "cell_type": "code",
   "execution_count": 2,
   "id": "9091db6e",
   "metadata": {},
   "outputs": [],
   "source": [
    "def _bytes_feature(value):\n",
    "    if isinstance(value, type(tf.constant(0))):\n",
    "        value = value.numpy()\n",
    "    return tf.train.Feature(bytes_list=tf.train.BytesList(value=[value]))\n",
    "\n",
    "def _float_feature(value):\n",
    "    return tf.train.Feature(float_list=tf.train.FloatList(value=[value]))\n",
    "\n",
    "def _int64_feature(value):\n",
    "    return tf.train.Feature(int64_list=tf.train.Int64List(value=[value]))\n",
    "\n",
    "def make_example(img_str, label):\n",
    "    feature = {'image': _bytes_feature(img_str),\n",
    "                'label': _bytes_feature(label)}\n",
    "    return tf.train.Example(features=tf.train.Features(feature=feature))"
   ]
  },
  {
   "cell_type": "markdown",
   "id": "55f05cad",
   "metadata": {},
   "source": [
    "# Dataframe Sampling function"
   ]
  },
  {
   "cell_type": "code",
   "execution_count": 3,
   "id": "c2310531",
   "metadata": {},
   "outputs": [],
   "source": [
    "def sampling_data(df, label, frac):        \n",
    "    df_label = df[df['labels']==label]\n",
    "    df_yes_label = df_label.sample(frac=frac)\n",
    "    \n",
    "    df_not_label = df[df['labels']!=label]\n",
    "\n",
    "    df = pd.concat([df_not_label, df_yes_label])\n",
    "\n",
    "    df = df.sample(frac=1).reset_index(drop = True)\n",
    "\n",
    "    return df\n"
   ]
  },
  {
   "cell_type": "markdown",
   "id": "482eda2f",
   "metadata": {},
   "source": [
    "# Make Data from csvs"
   ]
  },
  {
   "cell_type": "code",
   "execution_count": 4,
   "id": "3683e96b",
   "metadata": {},
   "outputs": [],
   "source": [
    "class_name = ['roofed house', 'tower', 'building', 'tree', 'park', 'bridge', 'statue', 'marketplace']\n",
    "class_name_kor = ['기와집', '탑', '빌딩', '나무', '정원', '다리', '동상', '시장']\n",
    "\n",
    "csv_path = '/home/paul025220/AIFFELTHON/data/'\n",
    "batch_size = 16"
   ]
  },
  {
   "cell_type": "code",
   "execution_count": 5,
   "id": "aaa13c8c",
   "metadata": {},
   "outputs": [
    {
     "name": "stdout",
     "output_type": "stream",
     "text": [
      "CSV 모음 : ['/home/paul025220/AIFFELTHON/data/부산광역시_004.csv', '/home/paul025220/AIFFELTHON/data/광주광역시.csv', '/home/paul025220/AIFFELTHON/data/인천광역시.csv', '/home/paul025220/AIFFELTHON/data/부산광역시_002.csv', '/home/paul025220/AIFFELTHON/data/부산광역시_003.csv', '/home/paul025220/AIFFELTHON/data/서울특별시.csv', '/home/paul025220/AIFFELTHON/data/부산광역시_001.csv', '/home/paul025220/AIFFELTHON/data/울산_대구_대전_제주.csv']\n",
      "\n",
      "Sampling 전 Data 개수 : 622926\n"
     ]
    },
    {
     "data": {
      "text/html": [
       "<div>\n",
       "<style scoped>\n",
       "    .dataframe tbody tr th:only-of-type {\n",
       "        vertical-align: middle;\n",
       "    }\n",
       "\n",
       "    .dataframe tbody tr th {\n",
       "        vertical-align: top;\n",
       "    }\n",
       "\n",
       "    .dataframe thead th {\n",
       "        text-align: right;\n",
       "    }\n",
       "</style>\n",
       "<table border=\"1\" class=\"dataframe\">\n",
       "  <thead>\n",
       "    <tr style=\"text-align: right;\">\n",
       "      <th></th>\n",
       "      <th>labels</th>\n",
       "      <th>data_path</th>\n",
       "    </tr>\n",
       "  </thead>\n",
       "  <tbody>\n",
       "    <tr>\n",
       "      <th>0</th>\n",
       "      <td>5</td>\n",
       "      <td>data/Landmark/부산광역시/우동항/우동항_214_38058809.jpg</td>\n",
       "    </tr>\n",
       "    <tr>\n",
       "      <th>1</th>\n",
       "      <td>5</td>\n",
       "      <td>data/Landmark/부산광역시/우동항/우동항_202_38058764.jpg</td>\n",
       "    </tr>\n",
       "    <tr>\n",
       "      <th>2</th>\n",
       "      <td>5</td>\n",
       "      <td>data/Landmark/부산광역시/우동항/우동항_207_38058785.jpg</td>\n",
       "    </tr>\n",
       "    <tr>\n",
       "      <th>3</th>\n",
       "      <td>5</td>\n",
       "      <td>data/Landmark/부산광역시/우동항/우동항_203_38058769.jpg</td>\n",
       "    </tr>\n",
       "    <tr>\n",
       "      <th>4</th>\n",
       "      <td>5</td>\n",
       "      <td>data/Landmark/부산광역시/우동항/우동항_193_38058724.jpg</td>\n",
       "    </tr>\n",
       "  </tbody>\n",
       "</table>\n",
       "</div>"
      ],
      "text/plain": [
       "   labels                                     data_path\n",
       "0       5  data/Landmark/부산광역시/우동항/우동항_214_38058809.jpg\n",
       "1       5  data/Landmark/부산광역시/우동항/우동항_202_38058764.jpg\n",
       "2       5  data/Landmark/부산광역시/우동항/우동항_207_38058785.jpg\n",
       "3       5  data/Landmark/부산광역시/우동항/우동항_203_38058769.jpg\n",
       "4       5  data/Landmark/부산광역시/우동항/우동항_193_38058724.jpg"
      ]
     },
     "metadata": {},
     "output_type": "display_data"
    },
    {
     "data": {
      "text/html": [
       "<div>\n",
       "<style scoped>\n",
       "    .dataframe tbody tr th:only-of-type {\n",
       "        vertical-align: middle;\n",
       "    }\n",
       "\n",
       "    .dataframe tbody tr th {\n",
       "        vertical-align: top;\n",
       "    }\n",
       "\n",
       "    .dataframe thead th {\n",
       "        text-align: right;\n",
       "    }\n",
       "</style>\n",
       "<table border=\"1\" class=\"dataframe\">\n",
       "  <thead>\n",
       "    <tr style=\"text-align: right;\">\n",
       "      <th></th>\n",
       "      <th>labels</th>\n",
       "      <th>data_path</th>\n",
       "    </tr>\n",
       "  </thead>\n",
       "  <tbody>\n",
       "    <tr>\n",
       "      <th>622921</th>\n",
       "      <td>6</td>\n",
       "      <td>data/Landmark/Ulsan/구강서원/구강서원_060_35480346.jpg</td>\n",
       "    </tr>\n",
       "    <tr>\n",
       "      <th>622922</th>\n",
       "      <td>6</td>\n",
       "      <td>data/Landmark/Ulsan/구강서원/구강서원_041_35480303.jpg</td>\n",
       "    </tr>\n",
       "    <tr>\n",
       "      <th>622923</th>\n",
       "      <td>0</td>\n",
       "      <td>data/Landmark/Ulsan/구강서원/구강서원_092_35480406.jpg</td>\n",
       "    </tr>\n",
       "    <tr>\n",
       "      <th>622924</th>\n",
       "      <td>6</td>\n",
       "      <td>data/Landmark/Ulsan/구강서원/구강서원_117_35480449.jpg</td>\n",
       "    </tr>\n",
       "    <tr>\n",
       "      <th>622925</th>\n",
       "      <td>6</td>\n",
       "      <td>data/Landmark/Ulsan/구강서원/구강서원_036_35480289.jpg</td>\n",
       "    </tr>\n",
       "  </tbody>\n",
       "</table>\n",
       "</div>"
      ],
      "text/plain": [
       "        labels                                       data_path\n",
       "622921       6  data/Landmark/Ulsan/구강서원/구강서원_060_35480346.jpg\n",
       "622922       6  data/Landmark/Ulsan/구강서원/구강서원_041_35480303.jpg\n",
       "622923       0  data/Landmark/Ulsan/구강서원/구강서원_092_35480406.jpg\n",
       "622924       6  data/Landmark/Ulsan/구강서원/구강서원_117_35480449.jpg\n",
       "622925       6  data/Landmark/Ulsan/구강서원/구강서원_036_35480289.jpg"
      ]
     },
     "metadata": {},
     "output_type": "display_data"
    }
   ],
   "source": [
    "csv_path_list = glob(csv_path+'*.csv')\n",
    "print(\"CSV 모음 :\", csv_path_list)\n",
    "\n",
    "data_origin = pd.read_csv(csv_path_list[0])\n",
    "for path in csv_path_list[1:]:\n",
    "    df = pd.read_csv(path)\n",
    "    data_origin = pd.concat([data_origin, df])\n",
    "    \n",
    "data_origin = data_origin[['labels', 'data_path']].reset_index(drop = True)\n",
    "data_origin_len = int(len(data_origin))\n",
    "print(\"\\nSampling 전 Data 개수 :\",  data_origin_len)\n",
    "display(data_origin.head())\n",
    "display(data_origin.tail())"
   ]
  },
  {
   "cell_type": "markdown",
   "id": "37a6793d",
   "metadata": {},
   "source": [
    "## Visualize"
   ]
  },
  {
   "cell_type": "code",
   "execution_count": 6,
   "id": "ada80d7e",
   "metadata": {},
   "outputs": [
    {
     "name": "stdout",
     "output_type": "stream",
     "text": [
      "기와집 : 21639\n",
      "탑 : 4403\n",
      "빌딩 : 360461\n",
      "나무 : 2557\n",
      "정원 : 112484\n",
      "다리 : 15359\n",
      "동상 : 9396\n",
      "시장 : 27205\n"
     ]
    },
    {
     "data": {
      "text/plain": [
       "<AxesSubplot:xlabel='labels'>"
      ]
     },
     "execution_count": 6,
     "metadata": {},
     "output_type": "execute_result"
    },
    {
     "data": {
      "image/png": "[encoded data removed]",
      "text/plain": [
       "<Figure size 640x480 with 1 Axes>"
      ]
     },
     "metadata": {},
     "output_type": "display_data"
    }
   ],
   "source": [
    "data_origin_groupby = data_origin.groupby(['labels'])['data_path'].nunique()\n",
    "list_data_origin = list(data_origin_groupby)\n",
    "for i, value in enumerate(list_data_origin):\n",
    "    print(class_name_kor[i], \":\" , value)\n",
    "\n",
    "data_origin_groupby.plot.bar(x = 'labels')"
   ]
  },
  {
   "cell_type": "markdown",
   "id": "78434fcf",
   "metadata": {},
   "source": [
    "# Sampling Data"
   ]
  },
  {
   "cell_type": "code",
   "execution_count": 7,
   "id": "f9351c41",
   "metadata": {},
   "outputs": [
    {
     "name": "stdout",
     "output_type": "stream",
     "text": [
      "\n",
      "Sampling 후 Data 개수 : 160108\n"
     ]
    },
    {
     "data": {
      "text/html": [
       "<div>\n",
       "<style scoped>\n",
       "    .dataframe tbody tr th:only-of-type {\n",
       "        vertical-align: middle;\n",
       "    }\n",
       "\n",
       "    .dataframe tbody tr th {\n",
       "        vertical-align: top;\n",
       "    }\n",
       "\n",
       "    .dataframe thead th {\n",
       "        text-align: right;\n",
       "    }\n",
       "</style>\n",
       "<table border=\"1\" class=\"dataframe\">\n",
       "  <thead>\n",
       "    <tr style=\"text-align: right;\">\n",
       "      <th></th>\n",
       "      <th>labels</th>\n",
       "      <th>data_path</th>\n",
       "    </tr>\n",
       "  </thead>\n",
       "  <tbody>\n",
       "    <tr>\n",
       "      <th>0</th>\n",
       "      <td>6</td>\n",
       "      <td>data/Landmark/서울특별시/국립서울현충원_충혼승천상/국립서울현충원_충혼승천...</td>\n",
       "    </tr>\n",
       "    <tr>\n",
       "      <th>1</th>\n",
       "      <td>4</td>\n",
       "      <td>data/Landmark/Gwangju/당산어린이공원/당산어린이공원_1_089_0.jpg</td>\n",
       "    </tr>\n",
       "    <tr>\n",
       "      <th>2</th>\n",
       "      <td>4</td>\n",
       "      <td>data/Landmark/Gwangju/산정공원/산정공원_063_0.JPG</td>\n",
       "    </tr>\n",
       "    <tr>\n",
       "      <th>3</th>\n",
       "      <td>0</td>\n",
       "      <td>data/Landmark/부산광역시/동래읍성역사관/동래읍성역사관_097_353799...</td>\n",
       "    </tr>\n",
       "    <tr>\n",
       "      <th>4</th>\n",
       "      <td>7</td>\n",
       "      <td>data/Landmark/Jeju/서귀포향토오일시장/서귀포향토오일시장_261_419...</td>\n",
       "    </tr>\n",
       "  </tbody>\n",
       "</table>\n",
       "</div>"
      ],
      "text/plain": [
       "   labels                                          data_path\n",
       "0       6  data/Landmark/서울특별시/국립서울현충원_충혼승천상/국립서울현충원_충혼승천...\n",
       "1       4  data/Landmark/Gwangju/당산어린이공원/당산어린이공원_1_089_0.jpg\n",
       "2       4          data/Landmark/Gwangju/산정공원/산정공원_063_0.JPG\n",
       "3       0  data/Landmark/부산광역시/동래읍성역사관/동래읍성역사관_097_353799...\n",
       "4       7  data/Landmark/Jeju/서귀포향토오일시장/서귀포향토오일시장_261_419..."
      ]
     },
     "metadata": {},
     "output_type": "display_data"
    },
    {
     "data": {
      "text/html": [
       "<div>\n",
       "<style scoped>\n",
       "    .dataframe tbody tr th:only-of-type {\n",
       "        vertical-align: middle;\n",
       "    }\n",
       "\n",
       "    .dataframe tbody tr th {\n",
       "        vertical-align: top;\n",
       "    }\n",
       "\n",
       "    .dataframe thead th {\n",
       "        text-align: right;\n",
       "    }\n",
       "</style>\n",
       "<table border=\"1\" class=\"dataframe\">\n",
       "  <thead>\n",
       "    <tr style=\"text-align: right;\">\n",
       "      <th></th>\n",
       "      <th>labels</th>\n",
       "      <th>data_path</th>\n",
       "    </tr>\n",
       "  </thead>\n",
       "  <tbody>\n",
       "    <tr>\n",
       "      <th>160103</th>\n",
       "      <td>0</td>\n",
       "      <td>data/Landmark/Daegu/진주강씨모열각/진주강씨모열각_069_365185...</td>\n",
       "    </tr>\n",
       "    <tr>\n",
       "      <th>160104</th>\n",
       "      <td>2</td>\n",
       "      <td>data/Landmark/Incheon/인천개항박물관/인천개항박물관_051_3376...</td>\n",
       "    </tr>\n",
       "    <tr>\n",
       "      <th>160105</th>\n",
       "      <td>0</td>\n",
       "      <td>data/Landmark/서울특별시/전쟁과여성인권박물관/20210523_174728...</td>\n",
       "    </tr>\n",
       "    <tr>\n",
       "      <th>160106</th>\n",
       "      <td>7</td>\n",
       "      <td>data/Landmark/서울특별시/롯데월드_머킹의회전목마/머킹의 회전목마_020_...</td>\n",
       "    </tr>\n",
       "    <tr>\n",
       "      <th>160107</th>\n",
       "      <td>4</td>\n",
       "      <td>data/Landmark/서울특별시/난지천공원_유아놀이터/난지천공원_유아놀이터_11...</td>\n",
       "    </tr>\n",
       "  </tbody>\n",
       "</table>\n",
       "</div>"
      ],
      "text/plain": [
       "        labels                                          data_path\n",
       "160103       0  data/Landmark/Daegu/진주강씨모열각/진주강씨모열각_069_365185...\n",
       "160104       2  data/Landmark/Incheon/인천개항박물관/인천개항박물관_051_3376...\n",
       "160105       0  data/Landmark/서울특별시/전쟁과여성인권박물관/20210523_174728...\n",
       "160106       7  data/Landmark/서울특별시/롯데월드_머킹의회전목마/머킹의 회전목마_020_...\n",
       "160107       4  data/Landmark/서울특별시/난지천공원_유아놀이터/난지천공원_유아놀이터_11..."
      ]
     },
     "metadata": {},
     "output_type": "display_data"
    }
   ],
   "source": [
    "# label 2 : 10%, 4 : 25% \n",
    "\n",
    "sampled_data = sampling_data(data_origin, 2, 0.1)\n",
    "data = sampling_data(sampled_data, 4, 0.25)\n",
    "\n",
    "data_len = int(len(data))\n",
    "print(\"\\nSampling 후 Data 개수 :\",  data_len)\n",
    "display(data.head())\n",
    "display(data.tail())"
   ]
  },
  {
   "cell_type": "markdown",
   "id": "22213b14",
   "metadata": {},
   "source": [
    "## Visualize"
   ]
  },
  {
   "cell_type": "code",
   "execution_count": 8,
   "id": "370f685f",
   "metadata": {},
   "outputs": [
    {
     "name": "stdout",
     "output_type": "stream",
     "text": [
      "기와집 : 21639\n",
      "탑 : 4403\n",
      "빌딩 : 40839\n",
      "나무 : 2557\n",
      "정원 : 29742\n",
      "다리 : 15359\n",
      "동상 : 9396\n",
      "시장 : 27205\n"
     ]
    },
    {
     "data": {
      "text/plain": [
       "<AxesSubplot:xlabel='labels'>"
      ]
     },
     "execution_count": 8,
     "metadata": {},
     "output_type": "execute_result"
    },
    {
     "data": {
      "image/png": "[encoded data removed]",
      "text/plain": [
       "<Figure size 640x480 with 1 Axes>"
      ]
     },
     "metadata": {},
     "output_type": "display_data"
    }
   ],
   "source": [
    "data_groupby = data.groupby(['labels'])['data_path'].nunique()\n",
    "list_data = list(data_groupby)\n",
    "for i, value in enumerate(list_data):\n",
    "    print(class_name_kor[i], \":\" , value)\n",
    "\n",
    "data_groupby.plot.bar(x = 'labels')"
   ]
  },
  {
   "cell_type": "markdown",
   "id": "7df8d398",
   "metadata": {},
   "source": [
    "# make tf.record"
   ]
  },
  {
   "cell_type": "code",
   "execution_count": 9,
   "id": "c2d76482",
   "metadata": {},
   "outputs": [
    {
     "name": "stdout",
     "output_type": "stream",
     "text": [
      "data_len :  160108\n",
      "split_idx :  144096\n"
     ]
    }
   ],
   "source": [
    "split_idx = int(data_len*0.9 - data_len*0.9%batch_size)\n",
    "\n",
    "print(\"data_len : \", data_len)\n",
    "print(\"split_idx : \", split_idx)\n",
    "\n",
    "# train_data (90%)\n",
    "train_data = data[:split_idx]\n",
    "\n",
    "train_file_names = train_data['data_path'].tolist()\n",
    "train_labels = train_data['labels'].tolist()\n",
    "\n",
    "# validation_data (10%)\n",
    "val_data = data[split_idx + (data_len - split_idx)%batch_size:]\n",
    "\n",
    "val_file_names = val_data['data_path'].tolist()\n",
    "val_labels = val_data['labels'].tolist()"
   ]
  },
  {
   "cell_type": "code",
   "execution_count": 10,
   "id": "9f3a9a0e",
   "metadata": {},
   "outputs": [
    {
     "name": "stderr",
     "output_type": "stream",
     "text": [
      "0it [00:00, ?it/s]2022-12-10 08:41:45.207717: I tensorflow/core/platform/cpu_feature_guard.cc:151] This TensorFlow binary is optimized with oneAPI Deep Neural Network Library (oneDNN) to use the following CPU instructions in performance-critical operations:  AVX2 FMA\n",
      "To enable them in other operations, rebuild TensorFlow with the appropriate compiler flags.\n",
      "2022-12-10 08:41:45.935638: I tensorflow/core/common_runtime/gpu/gpu_device.cc:1525] Created device /job:localhost/replica:0/task:0/device:GPU:0 with 14173 MB memory:  -> device: 0, name: Tesla V100-SXM2-16GB, pci bus id: 0000:00:04.0, compute capability: 7.0\n",
      "144096it [02:35, 924.02it/s] \n",
      "16000it [00:14, 1068.05it/s]\n"
     ]
    }
   ],
   "source": [
    "with tf.io.TFRecordWriter('/home/paul025220/AIFFELTHON/data/train.tfrecord') as writer:\n",
    "    for index, (file_name, label) in tqdm(enumerate(zip(train_file_names, train_labels))) :\n",
    "        file_path = file_name\n",
    "\n",
    "        label = tf.keras.utils.to_categorical(label, num_classes=8, dtype = 'float64')\n",
    "        label = label.tobytes()\n",
    "\n",
    "        tf_example = make_example(img_str=open(file_path, 'rb').read(), label=label)\n",
    "        writer.write(tf_example.SerializeToString())\n",
    "\n",
    "# write test dataset tfrecord\n",
    "with tf.io.TFRecordWriter('/home/paul025220/AIFFELTHON/data/val.tfrecord') as writer :\n",
    "    for index, (file_name, label) in tqdm(enumerate(zip(val_file_names, val_labels))) :\n",
    "        file_path = file_name\n",
    "\n",
    "        label = tf.keras.utils.to_categorical(label, num_classes=8, dtype = 'float64')\n",
    "        label = label.tobytes()\n",
    "\n",
    "        tf_example = make_example(img_str=open(file_path, 'rb').read(), label=label)\n",
    "        writer.write(tf_example.SerializeToString())"
   ]
  }
 ],
 "metadata": {
  "kernelspec": {
   "display_name": "Python 3 (ipykernel)",
   "language": "python",
   "name": "python3"
  },
  "language_info": {
   "codemirror_mode": {
    "name": "ipython",
    "version": 3
   },
   "file_extension": ".py",
   "mimetype": "text/x-python",
   "name": "python",
   "nbconvert_exporter": "python",
   "pygments_lexer": "ipython3",
   "version": "3.9.15"
  }
 },
 "nbformat": 4,
 "nbformat_minor": 5
}
