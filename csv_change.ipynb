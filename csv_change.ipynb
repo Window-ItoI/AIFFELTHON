{
 "cells": [
  {
   "attachments": {},
   "cell_type": "markdown",
   "metadata": {},
   "source": [
    "[python-한글-자음모음-분리현상-해결코드](https://velog.io/@parkseungju3/python-%ED%95%9C%EA%B8%80-%EC%9E%90%EC%9D%8C%EB%AA%A8%EC%9D%8C-%EB%B6%84%EB%A6%AC%ED%98%84%EC%83%81-%ED%95%B4%EA%B2%B0%EC%BD%94%EB%93%9C)"
   ]
  },
  {
   "cell_type": "code",
   "execution_count": 8,
   "metadata": {},
   "outputs": [],
   "source": [
    "import pandas as pd\n",
    "\n",
    "from unicodedata import normalize\n",
    "\n",
    "path = 'C:\\\\Users\\\\vkna\\\\Desktop\\\\김태현\\\\AIFFELTHON\\\\울산_대구_대전_제주.csv'\n",
    "df = pd.read_csv(path)\n",
    "def change_nfc_all_dir(df):\n",
    "    filenames = df['data_path']\n",
    "    after_filenames=[]\n",
    "    for filename in filenames:\n",
    "        after_filename = normalize('NFC', filename)\n",
    "        after_filenames.append(after_filename)\n",
    "    \n",
    "    return after_filenames\n",
    "\n",
    "sr1 = change_nfc_all_dir(df)\n",
    "df['data_path'] = sr1\n",
    "df['data_path'] = df['data_path'].str.replace('제주/', 'Jeju/')\n"
   ]
  },
  {
   "cell_type": "code",
   "execution_count": 7,
   "metadata": {},
   "outputs": [],
   "source": [
    "df.to_csv('제주_변경.csv')"
   ]
  }
 ],
 "metadata": {
  "kernelspec": {
   "display_name": "base",
   "language": "python",
   "name": "python3"
  },
  "language_info": {
   "codemirror_mode": {
    "name": "ipython",
    "version": 3
   },
   "file_extension": ".py",
   "mimetype": "text/x-python",
   "name": "python",
   "nbconvert_exporter": "python",
   "pygments_lexer": "ipython3",
   "version": "3.9.13 (main, Aug 25 2022, 23:51:50) [MSC v.1916 64 bit (AMD64)]"
  },
  "orig_nbformat": 4,
  "vscode": {
   "interpreter": {
    "hash": "ad2bdc8ecc057115af97d19610ffacc2b4e99fae6737bb82f5d7fb13d2f2c186"
   }
  }
 },
 "nbformat": 4,
 "nbformat_minor": 2
}
