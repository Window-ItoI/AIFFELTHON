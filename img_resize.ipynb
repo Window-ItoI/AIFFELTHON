{
 "cells": [
  {
   "cell_type": "markdown",
   "metadata": {},
   "source": [
    "# 라이브러리 설정"
   ]
  },
  {
   "cell_type": "code",
   "execution_count": null,
   "metadata": {},
   "outputs": [],
   "source": [
    "# !pip freeze > test.txt"
   ]
  },
  {
   "cell_type": "code",
   "execution_count": 2,
   "metadata": {},
   "outputs": [],
   "source": [
    "import tensorflow as tf\n",
    "import os\n",
    "import glob\n",
    "import pandas as pd\n",
    "import numpy as np\n",
    "import PIL.Image as Image"
   ]
  },
  {
   "cell_type": "markdown",
   "metadata": {},
   "source": [
    "# JSON에서 필요한 정보를 반환하는 함수\n",
    "\n",
    "\n"
   ]
  },
  {
   "cell_type": "code",
   "execution_count": 3,
   "metadata": {},
   "outputs": [],
   "source": [
    "def get_data(json_data):\n",
    "    name = json_data['categories'][0]['name']\n",
    "    # Type1 = json_data['categories'][0]['metainfo']['Type1']\n",
    "    Type2 = json_data['categories'][0]['metainfo']['Type2']\n",
    "    file_name = json_data['images'][0]['file_name']\n",
    "    width = json_data['images'][0]['width']\n",
    "    height = json_data['images'][0]['height']\n",
    "    # return (width, height), name, Type1, Type2, file_name\n",
    "    return (width, height), name, Type2, file_name"
   ]
  },
  {
   "cell_type": "code",
   "execution_count": null,
   "metadata": {},
   "outputs": [],
   "source": [
    "def get_data_2(json_data):\n",
    "    name = json_data['categories'][0]['name']\n",
    "    Type2 = json_data['categories'][0]['metainfo']['Type2']\n",
    "    file_name = json_data['images'][0]['file_name']\n",
    "    return name, Type2, file_name"
   ]
  },
  {
   "cell_type": "markdown",
   "metadata": {},
   "source": [
    "# JSON파일 불러오기\n"
   ]
  },
  {
   "cell_type": "code",
   "execution_count": null,
   "metadata": {},
   "outputs": [],
   "source": [
    "import orjson\n",
    "import glob\n",
    "import os\n",
    "\n",
    "Type2_list = []\n",
    "\n",
    "json_path = '/Volumes/Samsung_T5/ItoI/랜드마크 이미지/Training/서울특별시/서울특별시_label/'\n",
    "json_list = glob.glob(json_path + '**/*.json')\n",
    "#print(len(json_list))\n",
    "\n",
    "for json_file in json_list:\n",
    "    with open(json_file, \"rb\") as file:\n",
    "        json_data = orjson.loads(file.read())\n",
    "        name, Type2, file_name = get_data_2(json_data)\n",
    "        # list로 변환\n",
    "        # if Type2 not in Type2_list:\n",
    "        #     Type2_list.append(Type2)\n"
   ]
  },
  {
   "cell_type": "code",
   "execution_count": null,
   "metadata": {},
   "outputs": [],
   "source": [
    "Type2 = json_data['categories'][0]['metainfo']['Type2']['문화재']\n",
    "print(Type2)\n",
    "name = json_data['categories'][0]['name']['']\n",
    "print(name)\n",
    "file_name = json_data['images'][0]['file_name']['']\n",
    "print(file_name)"
   ]
  },
  {
   "cell_type": "markdown",
   "metadata": {},
   "source": [
    "# Image Resize\n"
   ]
  },
  {
   "cell_type": "code",
   "execution_count": 4,
   "metadata": {},
   "outputs": [],
   "source": [
    "import cv2\n",
    "from glob import glob\n",
    "import os\n",
    "\n",
    "def resize_img (img, w, h, size = 256):\n",
    "    if w >= h:\n",
    "        w_out = size * w // h\n",
    "        resize = cv2.resize(img, (w_out, 256))\n",
    "        return resize\n",
    "    else:\n",
    "        h_out = size * h // w\n",
    "        resize = cv2.resize(img, (256, h_out))\n",
    "        return resize"
   ]
  },
  {
   "cell_type": "code",
   "execution_count": null,
   "metadata": {},
   "outputs": [],
   "source": [
    "# def center_crop(img, set_size = 256):\n",
    "\n",
    "#     h, w, c = img.shape\n",
    "\n",
    "#     if set_size > min(h, w):\n",
    "#         return img\n",
    "\n",
    "#     mid_x, mid_y = w//2, h//2\n",
    "#     offset_x, offset_y = crop_width//2, crop_height//2\n",
    "       \n",
    "#     crop_img = img[mid_y - offset_y:mid_y + offset_y, mid_x - offset_x:mid_x + offset_x]\n",
    "#     return crop_img"
   ]
  },
  {
   "cell_type": "code",
   "execution_count": 28,
   "metadata": {},
   "outputs": [],
   "source": [
    "import cv2\n",
    "import matplotlib.pyplot as plt\n",
    "from glob import glob\n",
    "import os\n",
    "\n",
    "def draw_line (img):\n",
    "    height, width, channel = img.shape\n",
    "    red_color = (255,0,0)\n",
    "    # print((width - 256) // 2,(height - 256) // 2, (width - 256) // 2 + 256, (height - 256) // 2 + 256)\n",
    "    img = cv2.rectangle(img, ((width - 256) // 2, (height - 256) // 2), ((width - 256) // 2 + 256, (height - 256) // 2 + 256), red_color,3)\n",
    "    return img\n",
    "    \n",
    "\n",
    "folder_path = '/Volumes/Samsung_T5/ItoI/랜드마크 이미지/Training/서울특별시/서울특별시_004/'\n",
    "folder_list = glob(folder_path + '**/*')\n",
    "\n",
    "for img_path in folder_list:\n",
    "    if img_path.endswith('.jpg') or img_path.endswith('.JPG') or img_path.endswith('.jpeg')  or img_path.endswith('.JPEG'):\n",
    "        img = cv2.imread(img_path, cv2.IMREAD_COLOR)\n",
    "        h,w,_ = img.shape\n",
    "        resize = resize_img(img, w, h)\n",
    "        cv2.imwrite(img_path, resize)\n",
    "\n",
    "# img = cv2.rectangle(img, (start,start), (start+width, start+height), (255,0,0),3 )\n",
    "# img = cv2.rectangle(img, (int(start+ width/2 - box/2), int(start + height/2 - box/2)), (int(start+ width/2 +box/2), int(start + height/2 + box/2)), (0,255,0),3 )"
   ]
  },
  {
   "cell_type": "code",
   "execution_count": null,
   "metadata": {},
   "outputs": [],
   "source": [
    "folder_path = '/Volumes/Samsung_T5/ItoI/랜드마크 이미지/Training/서울특별시/서울특별시_004/'\n",
    "folder_list = glob(folder_path + '**/*')\n",
    "img = Image.open(folder_list[70])\n",
    "drawed_img = draw_line(img)\n",
    "drawed_img.show()\n"
   ]
  },
  {
   "cell_type": "markdown",
   "metadata": {},
   "source": [
    "# 데이터셋 구축"
   ]
  },
  {
   "cell_type": "code",
   "execution_count": null,
   "metadata": {},
   "outputs": [],
   "source": [
    "import tensorflow as tf \n",
    "from tensorflow import keras \n",
    "from sklearn.model_selection\n",
    "import numpy as np \n",
    "from glob import glob \n",
    "from PIL import Image \n",
    "import matplotlib.pyplot as plt \n",
    "import os\n",
    "import tensorflow_datasets as tfds\n",
    "import pathlib\n",
    "import IPython.display as display\n",
    "import matplotlib.pyplot as plt"
   ]
  },
  {
   "cell_type": "code",
   "execution_count": null,
   "metadata": {},
   "outputs": [],
   "source": [
    "data_directory = "
   ]
  },
  {
   "cell_type": "code",
   "execution_count": null,
   "metadata": {},
   "outputs": [],
   "source": [
    "# Sample_dataset = tfds.load(\"mnist\", split=\"train\", try_gcs=True)\n",
    "# assert isinstance(Sample_dataset, tf.data.Dataset)\n",
    "# Sample_dataset"
   ]
  },
  {
   "cell_type": "code",
   "execution_count": null,
   "metadata": {},
   "outputs": [],
   "source": [
    "from glob import glob\n",
    "import os\n",
    "\n",
    "for cls_list in name:\n",
    "    if cls_list in \"기와\":\n",
    "        os.symlink(, '/Volumes/Samsung_T5/ItoI/랜드마크 이미지/0')\n",
    "    elif cls_list in \"현대건축물\":    \n",
    "        os.symlink(, '/Volumes/Samsung_T5/ItoI/랜드마크 이미지/1')\n",
    "    elif cls_list in \"탑\":\n",
    "        os.symlink(, '/Volumes/Samsung_T5/ItoI/랜드마크 이미지/2')\n",
    "    else:\n",
    "        print(\"The list is empty.\")  \n",
    "        break  "
   ]
  },
  {
   "cell_type": "code",
   "execution_count": null,
   "metadata": {},
   "outputs": [],
   "source": [
    "# import cv2\n",
    "# from glob import glob\n",
    "# import os\n",
    "\n",
    "\n",
    "# folder_path = '/Volumes/Samsung_T5/ItoI/랜드마크 이미지/Training/서울특별시/서울특별시_001/'\n",
    "# file_list = glob(folder_path + '**/*.jpg')\n",
    "# #print(file_list)\n",
    "# for img_path in file_list:\n",
    "#     img = cv2.imread(img_path)\n",
    "#     h,w,_ = img.shape\n",
    "#     rate_1 = w/h\n",
    "\n",
    "#     if w > h:\n",
    "#         rate_2 = 256 * w // h\n",
    "#         resize_img = cv2.resize(img, (rate_2, 256), Image.ANTIALIAS)\n",
    "#     else:\n",
    "#         rate_2 = 256 * h // w\n",
    "#         resize_img = cv2.resize(img, (256, rate_2), Image.ANTIALIAS)\n",
    "#     cv2.imwrite(img_path, resize_img)"
   ]
  },
  {
   "cell_type": "code",
   "execution_count": null,
   "metadata": {},
   "outputs": [],
   "source": [
    "import cv2\n",
    "import glob\n",
    "import os\n",
    "\n",
    "folder_path = '/Volumes/Samsung_T5/ItoI/랜드마크 이미지/Training/서울특별시/서울특별시_001/'\n",
    "#folder_list = os.listdir(folder_path)\n",
    "file_list = glob.glob(folder_path + '*/*.jpg')\n",
    "# for folder in folder_list:\n",
    "#     #print(folder)\n",
    "#     file_path = folder_path + folder\n",
    "#     file_list = os.listdir(file_path)\n",
    "#     print(file_list)\n",
    "#     #print(file_path)\n"
   ]
  },
  {
   "cell_type": "code",
   "execution_count": null,
   "metadata": {},
   "outputs": [],
   "source": [
    "# for img_path in file_list:\n",
    "#     #print(img_path)\n",
    "#     img = cv2.imread(img_path)\n",
    "#     # print(img)\n",
    "#     resize_img = cv2.resize(img, dsize=(256, 256))\n",
    "#     cv2.imwrite(img_path, resize_img)"
   ]
  },
  {
   "cell_type": "code",
   "execution_count": null,
   "metadata": {},
   "outputs": [],
   "source": [
    "import orjson as json\n",
    "import cv2\n",
    "\n",
    "Type2_landmark_set_list = dict()\n",
    "Rate_list = []\n",
    "Length_list = dict()\n",
    "\n",
    "#folder_path = '/Volumes/Samsung_T5/ItoI/랜드마크 이미지/Training/'\n",
    "folder_path = '/Volumes/Samsung_T5/ItoI/랜드마크 이미지/Training/서울특별시/[원천]서울특별시_001/'\n",
    "\n",
    "\n",
    "#json_list = glob.glob(folder_path + '**/**/**/*.json')\n",
    "#json_list = glob.glob(folder_path + '**/*.json')\n",
    "image_list = glob.glob(folder_path + '*.JPG')\n",
    "\n",
    "\n",
    "# print(len(json_list))\n",
    "# print(len(image_list))\n",
    "# print(image_list)\n",
    "\n",
    "resize_height = 256\n",
    "resize_width = 256\n",
    "\n",
    "for image_path in image_list:\n",
    "    image = cv2.imread(image_path)\n",
    "    # print(image.shape)\n",
    "    ## (4032,3024)\n",
    "    resize_image = cv2.resize(image, (resize_width, resize_height))\n",
    "    cv2.imwrite(image_path, resize_image)\n",
    "    \n",
    "# for json_file in json_list:\n",
    "#     with open(json_file, 'rb') as file:\n",
    "#         json_data = json.loads(file.read())\n",
    "#         (width, height), name, Type2, file_name = get_data(json_data)\n",
    "        \n",
    "#         if height == 0:\n",
    "#             height = 1\n",
    "#         rate = width/height\n",
    "        \n",
    "#         if (width, height, rate) not in Length_list:\n",
    "#             Length_list[(width, height, rate)] = 1\n",
    "#         else :\n",
    "#             Length_list[(width, height, rate)] += 1"
   ]
  }
 ],
 "metadata": {
  "kernelspec": {
   "display_name": "Python 3.8.9 64-bit",
   "language": "python",
   "name": "python3"
  },
  "language_info": {
   "codemirror_mode": {
    "name": "ipython",
    "version": 3
   },
   "file_extension": ".py",
   "mimetype": "text/x-python",
   "name": "python",
   "nbconvert_exporter": "python",
   "pygments_lexer": "ipython3",
   "version": "3.8.9"
  },
  "orig_nbformat": 4,
  "vscode": {
   "interpreter": {
    "hash": "31f2aee4e71d21fbe5cf8b01ff0e069b9275f58929596ceb00d14d90e3e16cd6"
   }
  }
 },
 "nbformat": 4,
 "nbformat_minor": 2
}
