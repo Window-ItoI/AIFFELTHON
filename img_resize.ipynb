{
 "cells": [
  {
   "cell_type": "code",
   "execution_count": 1,
   "metadata": {},
   "outputs": [],
   "source": [
    "import cv2\n",
    "import glob\n",
    "import os\n",
    "\n",
    "folder_path = 'New_sample/원천데이터/세종특별자치시/랜드마크_이미지_세종특별자치시_001/'\n",
    "folder_list = os.listdir(folder_path)\n",
    "\n",
    "# for folder in folder_list:\n",
    "#     print(folder)\n",
    "#     file_path = folder_path + folder\n",
    "#     file_list = os.listdir(file_path)\n",
    "#     print(file_path)\n",
    "#     for img_file in file_list:\n",
    "#         img_path = file_path+'/'+img_file\n",
    "#         print(img_path)\n",
    "#         img = cv2.imread(img_path)\n",
    "#         print(img)\n",
    "#         resize_img = cv2.resize(img, (256, 256))\n",
    "#         cv2.imwrite(img_path, resize_img)\n",
    "        "
   ]
  },
  {
   "cell_type": "code",
   "execution_count": 29,
   "metadata": {},
   "outputs": [
    {
     "name": "stdout",
     "output_type": "stream",
     "text": [
      "None\n"
     ]
    }
   ],
   "source": []
  },
  {
   "cell_type": "code",
   "execution_count": null,
   "metadata": {},
   "outputs": [],
   "source": []
  }
 ],
 "metadata": {
  "kernelspec": {
   "display_name": "Python 3.11.0 64-bit",
   "language": "python",
   "name": "python3"
  },
  "language_info": {
   "codemirror_mode": {
    "name": "ipython",
    "version": 3
   },
   "file_extension": ".py",
   "mimetype": "text/x-python",
   "name": "python",
   "nbconvert_exporter": "python",
   "pygments_lexer": "ipython3",
   "version": "3.11.0"
  },
  "orig_nbformat": 4,
  "vscode": {
   "interpreter": {
    "hash": "b9a366b898ceb0eeaf4dbfdd9dcb0306a0838df183c6a3593b11e6396a904ea5"
   }
  }
 },
 "nbformat": 4,
 "nbformat_minor": 2
}
