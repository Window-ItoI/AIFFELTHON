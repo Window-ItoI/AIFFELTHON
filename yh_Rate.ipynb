{
 "cells": [
  {
   "cell_type": "markdown",
   "metadata": {},
   "source": [
    "## 라이브러리 설정"
   ]
  },
  {
   "cell_type": "code",
   "execution_count": null,
   "metadata": {},
   "outputs": [],
   "source": [
    "import tensorflow as tf\n",
    "import os\n",
    "import glob\n",
    "import pandas as pd\n",
    "import numpy as np\n",
    "import PIL.Image as Image"
   ]
  },
  {
   "cell_type": "markdown",
   "metadata": {},
   "source": [
    "## 함수"
   ]
  },
  {
   "cell_type": "markdown",
   "metadata": {},
   "source": [
    "### JSON에서 필요한 정보를 반환하는 함수"
   ]
  },
  {
   "cell_type": "code",
   "execution_count": null,
   "metadata": {},
   "outputs": [],
   "source": [
    "def get_data(json_data):\n",
    "    name = json_data['categories'][0]['name']\n",
    "    # Type1 = json_data['categories'][0]['metainfo']['Type1']\n",
    "    Type2 = json_data['categories'][0]['metainfo']['Type2']\n",
    "    file_name = json_data['images'][0]['file_name']\n",
    "    width = json_data['images'][0]['width']\n",
    "    height = json_data['images'][0]['height']\n",
    "    \n",
    "    # return (width, height), name, Type1, Type2, file_name\n",
    "    return (width, height), name, Type2, file_name\n"
   ]
  },
  {
   "cell_type": "markdown",
   "metadata": {},
   "source": [
    "### Type2와 Name으로 Label을 선언해주는 함수"
   ]
  },
  {
   "cell_type": "code",
   "execution_count": null,
   "metadata": {},
   "outputs": [],
   "source": [
    "# def get_label(Type2):\n",
    "#     non_structure_list = ['기념비', '기념탑', '나무', '동상', '비석', '석상', '석탑', '성지', '전망대', '조망대', '천연기념물', '문화재', '비지정향토문화재']\n",
    "#     modern_list = ['갤러리', '과학관', '교회', '기념관','미술관','박물관','복합문화공간','성당','수도원','역사관','전시관','체험','체험공간','체험관','테마공원','테마파크','천문대']\n",
    "#     if Type2 in modern_list:\n",
    "#         return 1\n",
    "#     else:\n",
    "#         return 0"
   ]
  },
  {
   "cell_type": "markdown",
   "metadata": {},
   "source": [
    "## Image Resize"
   ]
  },
  {
   "cell_type": "code",
   "execution_count": null,
   "metadata": {},
   "outputs": [],
   "source": [
    "import ujson as json\n",
    "import cv2\n",
    "\n",
    "Type2_landmark_set_list = dict()\n",
    "Rate_list = []\n",
    "Length_list = dict()\n",
    "\n",
    "folder_path = '/home/aiffel/Mini_AIFFELTHON/data/'\n",
    "# folder_path = '/home/aiffel/Mini_AIFFELTHON/data/Training/세종특별자치시/'\n",
    "# folder_path = '/home/aiffel/Mini_AIFFELTHON/보관/병산사/'\n",
    "\n",
    "\n",
    "json_list = glob.glob(folder_path + '**/**/**/*.json')\n",
    "# json_list = glob.glob(folder_path + '**/*.json')\n",
    "image_list = glob.glob(folder_path + '*.JPG')\n",
    "\n",
    "\n",
    "# print(len(json_list))\n",
    "# print(len(image_list))\n",
    "# print(image_list)\n",
    "\n",
    "resize_height = 192\n",
    "resize_width = 256\n",
    "\n",
    "for image_path in image_list:\n",
    "    image = cv2.imread(image_path)\n",
    "    # print(image.shape)\n",
    "    ## (4032,3024)\n",
    "    resize_image = cv2.resize(image, (resize_width, resize_height))\n",
    "    cv2.imwrite(image_path, resize_image)\n",
    "    \n",
    "for json_file in json_list:\n",
    "    with open(json_file, 'r') as file:\n",
    "        json_data = json.load(file)\n",
    "        (width, height), name, Type2, file_name = get_data(json_data)\n",
    "        \n",
    "        if height == 0:\n",
    "            height = 1\n",
    "        rate = width/height\n",
    "        \n",
    "        if (width, height, rate) not in Length_list:\n",
    "            Length_list[(width, height, rate)] = 1\n",
    "        else :\n",
    "            Length_list[(width, height, rate)] += 1"
   ]
  },
  {
   "cell_type": "markdown",
   "metadata": {},
   "source": [
    "## CSV 기록"
   ]
  },
  {
   "cell_type": "code",
   "execution_count": null,
   "metadata": {},
   "outputs": [],
   "source": [
    "import csv\n",
    "\n",
    "## 길이 비율\n",
    "# Length_list\n",
    "sorted_Length_list = sorted(Length_list.items(), key = lambda item: item[1], reverse = True)\n",
    "sorted_Length_list\n",
    "\n",
    "with open('/home/aiffel/Mini_AIFFELTHON/landmark_Length.csv','w',newline='') as file_4:\n",
    "    writer_4 = csv.writer(file_4)\n",
    "    for (width, height, rate), count in sorted_Length_list:\n",
    "        writer_4.writerow([width, height, rate, count])"
   ]
  },
  {
   "cell_type": "markdown",
   "metadata": {},
   "source": [
    "## 시각화"
   ]
  },
  {
   "cell_type": "code",
   "execution_count": null,
   "metadata": {},
   "outputs": [
    {
     "name": "stdout",
     "output_type": "stream",
     "text": [
      "2255332\n",
      "1879753\n",
      "36263\n",
      "8274\n",
      "26697\n",
      "4206319\n"
     ]
    }
   ],
   "source": [
    "# 4대3 400x300\n",
    "count1 = 0\n",
    "# 16대9 480x270\n",
    "count2 = 0\n",
    "# 3대2 420 x 280\n",
    "count3 = 0\n",
    "# 1대1 350 x 350\n",
    "count4 = 0\n",
    "# 3대4 270 x 360\n",
    "count5 = 0\n",
    "# \n",
    "for (width, height, rate), count in sorted_Length_list:\n",
    "    if rate > 1.33 and rate < 1.35:\n",
    "        count1 += count\n",
    "    if rate >1.77 and rate < 1.8:\n",
    "        count2 += count\n",
    "    if rate > 1.49 and rate < 1.51:\n",
    "        count3 += count\n",
    "    if rate > 0.99 and rate < 1.01:\n",
    "        count4 += count\n",
    "    if rate > 0.74 and rate < 0.76:\n",
    "        count5 += count\n",
    "        \n",
    "\n",
    "print(count1)\n",
    "print(count2)\n",
    "print(count3)\n",
    "print(count4)\n",
    "print(count5)\n",
    "\n",
    "print(count1 + count2 + count3 + count4 + count5)\n"
   ]
  },
  {
   "cell_type": "code",
   "execution_count": null,
   "metadata": {},
   "outputs": [
    {
     "data": {
      "image/png": "[encoded data removed]",
      "text/plain": [
       "<Figure size 720x720 with 1 Axes>"
      ]
     },
     "metadata": {},
     "output_type": "display_data"
    }
   ],
   "source": [
    "import cv2\n",
    "import matplotlib.pyplot as plt\n",
    "\n",
    "# 256x256\n",
    "start= 100\n",
    "width = 270\n",
    "height = 360\n",
    "box = 256\n",
    "\n",
    "img = np.zeros((750,750,3),np.uint8)\n",
    "img = cv2.rectangle(img, (start,start), (start+width, start+height), (255,0,0),3 )\n",
    "img = cv2.rectangle(img, (int(start+ width/2 - box/2), int(start + height/2 - box/2)), (int(start+ width/2 +box/2), int(start + height/2 + box/2)), (0,255,0),3 )\n",
    "\n",
    "\n",
    "plt.figure(figsize=(10,10))\n",
    "plt.imshow(img)\n",
    "plt.show()"
   ]
  },
  {
   "cell_type": "markdown",
   "metadata": {},
   "source": []
  }
 ],
 "metadata": {
  "kernelspec": {
   "display_name": "Python 3.10.6 64-bit",
   "language": "python",
   "name": "python3"
  },
  "language_info": {
   "name": "python",
   "version": "3.10.6"
  },
  "orig_nbformat": 4,
  "vscode": {
   "interpreter": {
    "hash": "916dbcbb3f70747c44a77c7bcd40155683ae19c65e1c03b4aa3499c5328201f1"
   }
  }
 },
 "nbformat": 4,
 "nbformat_minor": 2
}
