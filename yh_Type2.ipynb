{
 "cells": [
  {
   "cell_type": "markdown",
   "metadata": {},
   "source": [
    "## 라이브러리 설정"
   ]
  },
  {
   "cell_type": "code",
   "execution_count": 1,
   "metadata": {},
   "outputs": [],
   "source": [
    "import tensorflow as tf\n",
    "import os\n",
    "import glob\n",
    "import pandas as pd\n",
    "import numpy as np\n",
    "import PIL.Image as Image"
   ]
  },
  {
   "cell_type": "markdown",
   "metadata": {},
   "source": [
    "## 함수"
   ]
  },
  {
   "cell_type": "markdown",
   "metadata": {},
   "source": [
    "### JSON에서 필요한 정보를 반환하는 함수"
   ]
  },
  {
   "cell_type": "code",
   "execution_count": 2,
   "metadata": {},
   "outputs": [],
   "source": [
    "def get_data(json_data):\n",
    "    name = json_data['categories'][0]['name']\n",
    "    # Type1 = json_data['categories'][0]['metainfo']['Type1']\n",
    "    Type2 = json_data['categories'][0]['metainfo']['Type2']\n",
    "    file_name = json_data['images'][0]['file_name']\n",
    "    width = json_data['images'][0]['width']\n",
    "    height = json_data['images'][0]['height']\n",
    "    \n",
    "    # return (width, height), name, Type1, Type2, file_name\n",
    "    return (width, height), name, Type2, file_name\n"
   ]
  },
  {
   "cell_type": "markdown",
   "metadata": {},
   "source": [
    "### Type2와 Name으로 Label을 선언해주는 함수"
   ]
  },
  {
   "cell_type": "code",
   "execution_count": 3,
   "metadata": {},
   "outputs": [],
   "source": [
    "# def get_label(Type2):\n",
    "#     non_structure_list = ['기념비', '기념탑', '나무', '동상', '비석', '석상', '석탑', '성지', '전망대', '조망대', '천연기념물', '문화재', '비지정향토문화재']\n",
    "#     modern_list = ['갤러리', '과학관', '교회', '기념관','미술관','박물관','복합문화공간','성당','수도원','역사관','전시관','체험','체험공간','체험관','테마공원','테마파크','천문대']\n",
    "#     if Type2 in modern_list:\n",
    "#         return 1\n",
    "#     else:\n",
    "#         return 0"
   ]
  },
  {
   "cell_type": "markdown",
   "metadata": {},
   "source": [
    "## JSON 파악"
   ]
  },
  {
   "cell_type": "code",
   "execution_count": 5,
   "metadata": {},
   "outputs": [],
   "source": [
    "import ujson as json\n",
    "import cv2\n",
    "\n",
    "Type2_landmark_set_list = dict()\n",
    "Rate_list = []\n",
    "Length_list = dict()\n",
    "\n",
    "folder_path = '/home/aiffel/Mini_AIFFELTHON/data/'\n",
    "# folder_path = '/home/aiffel/Mini_AIFFELTHON/data/Training/세종특별자치시/'\n",
    "# folder_path = '/home/aiffel/Mini_AIFFELTHON/보관/병산사/'\n",
    "\n",
    "\n",
    "json_list = glob.glob(folder_path + '**/**/**/*.json')\n",
    "# json_list = glob.glob(folder_path + '**/*.json')\n",
    "\n",
    "# print(len(json_list))\n",
    "\n",
    "for json_file in json_list:\n",
    "    with open(json_file, 'r') as file:\n",
    "        json_data = json.load(file)\n",
    "        (width, height), name, Type2, file_name = get_data(json_data)\n",
    "        \n",
    "        # name과 Type2 묶음(-> name, Type2)\n",
    "        # [name, Type2]\n",
    "        if name not in Type2_landmark_set_list:\n",
    "            Type2_landmark_set_list[name] = Type2\n",
    "        \n",
    "        # if height == 0:\n",
    "        #     height = 1\n",
    "        # rate = width/height\n",
    "        \n",
    "        # if (width, height, rate) not in Length_list:\n",
    "        #     Length_list[(width, height, rate)] = 1\n",
    "        # else :\n",
    "        #     Length_list[(width, height, rate)] += 1"
   ]
  },
  {
   "cell_type": "code",
   "execution_count": 6,
   "metadata": {},
   "outputs": [],
   "source": [
    "# name과 Type2의 묶음\n",
    "# sorted_Type2_landmark_set_list = sorted(Type2_landmark_set_list.items(), key = lambda item: item[1])\n",
    "# print(len(sorted_Type2_landmark_set_list))\n",
    "# sorted_Type2_landmark_set_list"
   ]
  },
  {
   "cell_type": "code",
   "execution_count": 7,
   "metadata": {},
   "outputs": [],
   "source": [
    "# Type2_landmark_list = dict()\n",
    "# count = 0\n",
    "# for (key, value) in sorted_Type2_landmark_set_list:\n",
    "#     count += 1\n",
    "#     if value not in Type2_landmark_list:\n",
    "#         Type2_landmark_list[value] = 1\n",
    "#     else:\n",
    "#         Type2_landmark_list[value] += 1"
   ]
  },
  {
   "cell_type": "code",
   "execution_count": 8,
   "metadata": {},
   "outputs": [],
   "source": [
    "# print(\"landmark의 총 갯수 :\", count)"
   ]
  },
  {
   "cell_type": "code",
   "execution_count": 9,
   "metadata": {},
   "outputs": [],
   "source": [
    "# ## Type2를 기준으로 정렬\n",
    "# sorted_Type2_landmark_list_1 = sorted(Type2_landmark_list.items())\n",
    "# ## 갯수를 기준으로 정렬\n",
    "# sorted_Type2_landmark_list_2 = sorted(Type2_landmark_list.items(), key = lambda item: item[1], reverse = True)"
   ]
  },
  {
   "cell_type": "code",
   "execution_count": 10,
   "metadata": {},
   "outputs": [],
   "source": [
    "# sorted_Type2_landmark_list_1"
   ]
  },
  {
   "cell_type": "code",
   "execution_count": 11,
   "metadata": {},
   "outputs": [],
   "source": [
    "# sorted_Type2_landmark_list_2"
   ]
  },
  {
   "cell_type": "markdown",
   "metadata": {},
   "source": [
    "## CSV 기록"
   ]
  },
  {
   "cell_type": "code",
   "execution_count": 13,
   "metadata": {},
   "outputs": [],
   "source": [
    "import csv\n",
    "\n",
    "# with open('/home/aiffel/Mini_AIFFELTHON/landmark_name_Type2.csv','w',newline='') as file_n:\n",
    "#     writer_n = csv.writer(file_n)\n",
    "#     ## name, Type2\n",
    "#     for key, value  in sorted_Type2_landmark_set_list:\n",
    "#         writer_n.writerow([value, key])"
   ]
  },
  {
   "cell_type": "code",
   "execution_count": 14,
   "metadata": {},
   "outputs": [],
   "source": [
    "## Type2 이름 sort\n",
    "# with open('/home/aiffel/Mini_AIFFELTHON/landmark_Type2_1.csv','w',newline='') as file:\n",
    "#     writer = csv.writer(file)\n",
    "#     ## Type2, count\n",
    "#     for key, value in sorted_Type2_landmark_list_1:\n",
    "#         # writer.writerow([(key), value,])\n",
    "#         writer.writerow([(key), (value), (round(100.0*value/count, 2))])"
   ]
  },
  {
   "cell_type": "code",
   "execution_count": 15,
   "metadata": {},
   "outputs": [],
   "source": [
    "## 갯수 sort\n",
    "# with open('/home/aiffel/Mini_AIFFELTHON/landmark_Type2_2.csv','w',newline='') as file_2:\n",
    "#     writer_2 = csv.writer(file_2)\n",
    "#     ## Type2, count\n",
    "#     for key, value in sorted_Type2_landmark_list_2:\n",
    "#         # writer_2.writerow([(key), value])\n",
    "#         writer_2.writerow([(key), (value), (round(100.0*value/count, 2))])\n",
    "        "
   ]
  }
 ],
 "metadata": {
  "kernelspec": {
   "display_name": "Python 3.10.6 ('tensorflow': venv)",
   "language": "python",
   "name": "python3"
  },
  "language_info": {
   "codemirror_mode": {
    "name": "ipython",
    "version": 3
   },
   "file_extension": ".py",
   "mimetype": "text/x-python",
   "name": "python",
   "nbconvert_exporter": "python",
   "pygments_lexer": "ipython3",
   "version": "3.10.6"
  },
  "orig_nbformat": 4,
  "vscode": {
   "interpreter": {
    "hash": "d3d548dbc07dac0e24bbfeb6e932dc9e9a9d93b0bdd3d2fd0655f4be29fd0580"
   }
  }
 },
 "nbformat": 4,
 "nbformat_minor": 2
}
